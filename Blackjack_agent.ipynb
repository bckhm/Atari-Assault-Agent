{
 "cells": [
  {
   "cell_type": "markdown",
   "id": "00659373-14c2-4d6a-b4d3-c0e6b4e6ced5",
   "metadata": {
    "id": "00659373-14c2-4d6a-b4d3-c0e6b4e6ced5"
   },
   "source": [
    "# Blackjack Agent using Deep-Q Learning\n",
    "In this notebook, we aim to train an agent to play the Blackjack via the use of reinforcement learning (Deep-Q Learning). We will treat the process of walking as a Markov Decision Process (MDP) in our learning efforts."
   ]
  },
  {
   "cell_type": "markdown",
   "id": "401d8655-4b98-41b6-8043-239cf300d997",
   "metadata": {
    "id": "401d8655-4b98-41b6-8043-239cf300d997"
   },
   "source": [
    "# 1. Packages\n",
    "`Xvfb` and `gym[Box2D]` are also required in order to run our display and the environment respectively."
   ]
  },
  {
   "cell_type": "code",
   "execution_count": 1,
   "id": "1e7dd31d-5524-44f9-8a1c-3279e1af3e65",
   "metadata": {
    "id": "1e7dd31d-5524-44f9-8a1c-3279e1af3e65"
   },
   "outputs": [],
   "source": [
    "import time\n",
    "from collections import deque, namedtuple\n",
    "\n",
    "import gym\n",
    "import numpy as np\n",
    "import PIL.Image\n",
    "import tensorflow as tf\n",
    "\n",
    "from pyvirtualdisplay import Display\n",
    "from utils import *\n",
    "from copy import deepcopy"
   ]
  },
  {
   "cell_type": "code",
   "execution_count": 2,
   "id": "3d331466-0731-4931-9334-138a2110c485",
   "metadata": {
    "id": "3d331466-0731-4931-9334-138a2110c485"
   },
   "outputs": [],
   "source": [
    "# Virtual Display for rendering of the Bipedal Walker environment\n",
    "Display(visible=0, size=(840, 480)).start();\n",
    "\n",
    "# Random seed for tensorflow\n",
    "tf.random.set_seed(0)"
   ]
  },
  {
   "cell_type": "markdown",
   "id": "KQQxtBtSFAl1",
   "metadata": {
    "id": "KQQxtBtSFAl1"
   },
   "source": [
    "# 2. Blackjack Environment\n",
    "We will [OpenAI's Gym library](https://www.gymlibrary.dev/) to load and attempt to solve the Blackjack environment. \n",
    "\n",
    "The goal of the Blakcjack environment is to train an agent to beat the dealer in Blackjack by obtaining cards that sum close to 21, without going over 21, and yet still have a higher value thant the dealer's card.\n",
    "\n",
    "<br>\n",
    "<br>\n",
    "<figure>\n",
    "  <img src =\"https://www.gymlibrary.dev/_images/blackjack.gif\" width = 40%>\n",
    "      <figcaption style = \"text-align: center; font-style: italic\">Atari Environment</figcaption>\n",
    "</figure>"
   ]
  },
  {
   "cell_type": "markdown",
   "id": "dKGIwjAcHBmh",
   "metadata": {
    "id": "dKGIwjAcHBmh"
   },
   "source": [
    "## 2.1 Action Space\n",
    "The action space consists of two actions represented by discrete values.\n",
    "- `0`: Stick\n",
    "- `1`: Hit"
   ]
  },
  {
   "cell_type": "markdown",
   "id": "VGjFG3boHb4K",
   "metadata": {
    "id": "VGjFG3boHb4K"
   },
   "source": [
    "## 2.2 Observation Space\n",
    "The agent's observation space is a state vector containing 3 variables:\n",
    "1. Player's current sum `[int]`\n",
    "2. Dealer's one showing card (1- 10) `[int]`\n",
    "3. Whether a player holds a usable ace `[bool]`\n"
   ]
  },
  {
   "cell_type": "markdown",
   "id": "Qg34xGn_IwBu",
   "metadata": {
    "id": "Qg34xGn_IwBu"
   },
   "source": [
    "## 2.3 Rewards\n",
    "- Win game: +1\n",
    "- Lose game: -1\n",
    "- Draw: 0\n",
    "- Win game with natural Blackjack: +1.5 if `natural=True`, else +1"
   ]
  },
  {
   "cell_type": "markdown",
   "id": "sejlakzRMp-K",
   "metadata": {
    "id": "sejlakzRMp-K"
   },
   "source": [
    "# 3. Loading the Environement\n",
    "We use the `gym` library to open the `BipedalWalker-v3` environment. `.reset()` resets the environment and `.render()` renders the first frame of the environment."
   ]
  },
  {
   "cell_type": "code",
   "execution_count": 3,
   "id": "bH3Bw4upNOn5",
   "metadata": {
    "colab": {
     "base_uri": "https://localhost:8080/",
     "height": 656
    },
    "id": "bH3Bw4upNOn5",
    "outputId": "b30fbbfd-f6e5-4c82-8848-98882a4a1991"
   },
   "outputs": [
    {
     "data": {
      "image/png": "[encoded data removed]",
      "text/plain": [
       "<PIL.Image.Image image mode=RGB size=600x500 at 0x290F99060>"
      ]
     },
     "execution_count": 3,
     "metadata": {},
     "output_type": "execute_result"
    }
   ],
   "source": [
    "env = gym.make('Blackjack-v1', natural=True, sab=False, render_mode='rgb_array')\n",
    "env.reset()\n",
    "\n",
    "PIL.Image.fromarray(env.render())"
   ]
  },
  {
   "cell_type": "markdown",
   "id": "UjSfxNuPNfvn",
   "metadata": {
    "id": "UjSfxNuPNfvn"
   },
   "source": [
    "Thereafter, we check the size of the state vector as well as the number of possible actions "
   ]
  },
  {
   "cell_type": "code",
   "execution_count": 4,
   "id": "eSPw4v_EO2jK",
   "metadata": {
    "colab": {
     "base_uri": "https://localhost:8080/"
    },
    "id": "eSPw4v_EO2jK",
    "outputId": "e997d7b2-6afc-44e4-c221-82b05d121216"
   },
   "outputs": [
    {
     "name": "stdout",
     "output_type": "stream",
     "text": [
      "State Vector: 3\n",
      "Poss Actions: Discrete(2)\n"
     ]
    }
   ],
   "source": [
    "state_shape = len(env.observation_space)\n",
    "poss_actions_space = env.action_space\n",
    "\n",
    "print(f\"State Vector: {state_shape}\")\n",
    "print(f\"Poss Actions: {poss_actions_space}\")"
   ]
  },
  {
   "cell_type": "code",
   "execution_count": 5,
   "id": "Z5yuwRfNdf7W",
   "metadata": {
    "id": "Z5yuwRfNdf7W"
   },
   "outputs": [],
   "source": [
    "poss_actions = 2"
   ]
  },
  {
   "cell_type": "markdown",
   "id": "E3gkbnmnQasz",
   "metadata": {
    "id": "E3gkbnmnQasz"
   },
   "source": [
    "# 4. Dynamics of the Environment\n",
    "Running `.step(action)` on the environment runs a single time step from the current state, $s$, taking action $a$ and returning different values. Here, we only care about:\n",
    "\n",
    "1. `next_state` $(object)$: Observation of the environment after an action. This is a vector contain our Observation Space variables. We may sometimes denote this as $s'$\n",
    "\n",
    "2. `rewards` $(float)$: Reward received as a result of our action. We may sometimes denote this as $R$"
   ]
  },
  {
   "cell_type": "code",
   "execution_count": 6,
   "id": "9fcdAgTcRpvv",
   "metadata": {
    "id": "9fcdAgTcRpvv"
   },
   "outputs": [
    {
     "data": {
      "text/plain": [
       "((10, 10, False), -1.0, True, False, {})"
      ]
     },
     "execution_count": 6,
     "metadata": {},
     "output_type": "execute_result"
    }
   ],
   "source": [
    "# Initial state of environment\n",
    "init_state = env.reset()\n",
    "\n",
    "# Sample action\n",
    "action = 0\n",
    "\n",
    "# Run a single time step given the action\n",
    "next_state, reward, done, _, _ = env.step(action)\n",
    "\n",
    "env.step(action)"
   ]
  },
  {
   "cell_type": "code",
   "execution_count": 7,
   "id": "e7b44cee-7e61-4b06-b54d-514dad95be01",
   "metadata": {},
   "outputs": [
    {
     "data": {
      "text/plain": [
       "((10, 10, False), {})"
      ]
     },
     "execution_count": 7,
     "metadata": {},
     "output_type": "execute_result"
    }
   ],
   "source": [
    "init_state"
   ]
  },
  {
   "cell_type": "code",
   "execution_count": 8,
   "id": "Wzf8UwFSUXAu",
   "metadata": {
    "colab": {
     "base_uri": "https://localhost:8080/",
     "height": 198
    },
    "id": "Wzf8UwFSUXAu",
    "outputId": "15d08130-0b00-4b1b-d2b5-fc6e6de5ca49"
   },
   "outputs": [
    {
     "data": {
      "text/html": [
       "<table class=\"simpletable\">\n",
       "<tr>\n",
       "  <th>Initial State:</th>      <td>((10, 10, False), {})</td>\n",
       "</tr>\n",
       "<tr>\n",
       "  <th>Action:</th>                       <td>S</td>          \n",
       "</tr>\n",
       "<tr>\n",
       "  <th>Next State:</th>            <td>(10, 10, False)</td>   \n",
       "</tr>\n",
       "<tr>\n",
       "  <th>Reward Received:</th>           <td>-1.000</td>        \n",
       "</tr>\n",
       "<tr>\n",
       "  <th>Episode Terminated:</th>         <td>True</td>         \n",
       "</tr>\n",
       "</table>"
      ],
      "text/plain": [
       "<class 'statsmodels.iolib.table.SimpleTable'>"
      ]
     },
     "execution_count": 8,
     "metadata": {},
     "output_type": "execute_result"
    }
   ],
   "source": [
    "display_table(init_state, action, next_state, reward, done)"
   ]
  },
  {
   "cell_type": "markdown",
   "id": "XwEMud4LUdT_",
   "metadata": {
    "id": "XwEMud4LUdT_"
   },
   "source": [
    "# 5. Deep $Q$-Learning\n",
    "## 5.1 $Q$ Function\n",
    "Our $Q$ function takes in 2 inputs -- $s$ and $a$, the current state and the action taken from this state. $Q(s, a)$ in this case is the total return for taking action $a$, arriving at state $s'$, and performing optimal actions from then on. We formulate $Q(s, a)$ using the Bellman Equation as shown:\n",
    "\n",
    "$$Q_{i+1}(s, a) = R + \\gamma\\ max_{a'}\\ Q_{i}(s', a')$$\n",
    "\n",
    "Whereby $\\gamma$ is the discount factor. As $i \\to \\infty$, our $Q$ function converges to the optimal $Q^{*}$. Due to the continuous problem that we are facing, we are unable to explore the entire state-action space and instead make use of a neural network, denoted as the $Q$-network, to estimate $Q(s, a) \\approx Q^{*}(s, a)$ via iteratively adjusting its weights using gradient descent.\n",
    "\n",
    "The $Q^{*}$ function is then used to choose the action that maximises $Q^{*}(s, a)$ to gain the greatest reward\n",
    "\n",
    "## 5.2 Target Network\n",
    "Our error term is currently calculated as shown\n",
    "$$\n",
    "\\overbrace{\\underbrace{R + \\gamma \\max_{a'}Q(s',a'; w)}_{\\rm {y~target}} - Q(s,a;w)}^{\\rm {Error}}\n",
    "$$\n",
    "\n",
    "However, the constantly changing $y$ targets may lead to instabilities in this application of reinforcement learning. Therefore, we need a seperate NN to be calculating the $y$ targets, whose weights are updated at a significantly slower pace. We denote the target network's state-action function as $\\hat{Q}$ and its weights as $w^{-}$. We update $w^{-}$  using a **soft update** as follows:\n",
    "\n",
    "$$w^-\\leftarrow \\tau w + (1 - \\tau) w^-$$\n",
    "\n",
    "whereby $\\tau < 1$. And our error is calculated as shown:\n",
    "\n",
    "$$ \\overbrace{\\underbrace{R + \\gamma \\max_{a'}\\hat{Q}(s',a'; w^-)}_{\\rm {y~target}} - Q(s,a;w)}^{\\rm {Error}} $$\n",
    "\n",
    "## 5.3 Networks\n",
    "Here, the networks for both the target network as well as the $Q$-network are built using `keras`. Our initial architecture is as follows:\n",
    "1. `Input` layer: takes in `state_shape` as inpit\n",
    "2. `Dense` layer: `8` units, `relu` activation\n",
    "3. `Dense` layer: `8` units, `relu` activation\n",
    "4. `Dense` layer: `poss_actions` units, `linear` activation\n",
    "\n",
    "Furthermore, since each blackjack episode only lasts 1 - 3 states, we want to penalise more risky plays by having a lower discount factor $\\gamma$.\n",
    "\n",
    "We use the `Adam` optimizer here, and also initate our intiial parameters."
   ]
  },
  {
   "cell_type": "code",
   "execution_count": 9,
   "id": "1_6BHxFJsF0c",
   "metadata": {
    "id": "1_6BHxFJsF0c"
   },
   "outputs": [],
   "source": [
    "# HYPERPARAMETERS\n",
    "ALPHA = 1e-3 # Learning rate\n",
    "GAMMA = 0.33 # Discount factor\n",
    "MEM_SIZE = 100000 # Memory buffer size\n",
    "NUM_STEPS_FOR_UPDATE = 1 # Number of time steps before updating weights"
   ]
  },
  {
   "cell_type": "code",
   "execution_count": 10,
   "id": "0kuCCJ5xtsb2",
   "metadata": {
    "id": "0kuCCJ5xtsb2"
   },
   "outputs": [
    {
     "name": "stdout",
     "output_type": "stream",
     "text": [
      "Metal device set to: Apple M1 Pro\n"
     ]
    },
    {
     "name": "stderr",
     "output_type": "stream",
     "text": [
      "2023-01-20 18:12:37.695799: I tensorflow/core/common_runtime/pluggable_device/pluggable_device_factory.cc:305] Could not identify NUMA node of platform GPU ID 0, defaulting to 0. Your kernel may not have been built with NUMA support.\n",
      "2023-01-20 18:12:37.695921: I tensorflow/core/common_runtime/pluggable_device/pluggable_device_factory.cc:271] Created TensorFlow device (/job:localhost/replica:0/task:0/device:GPU:0 with 0 MB memory) -> physical PluggableDevice (device: 0, name: METAL, pci bus id: <undefined>)\n"
     ]
    }
   ],
   "source": [
    "# Q-network\n",
    "q_network = tf.keras.models.Sequential([\n",
    "    tf.keras.layers.Input(shape=(state_shape)),\n",
    "    tf.keras.layers.Dense(16, activation='relu'),\n",
    "    tf.keras.layers.Dense(16, activation='relu'),\n",
    "    tf.keras.layers.Dense(poss_actions, activation='linear')\n",
    "])\n",
    "\n",
    "# Target Network\n",
    "target_network = tf.keras.models.Sequential([\n",
    "    tf.keras.layers.Input(shape=(state_shape)),\n",
    "    tf.keras.layers.Dense(16, activation='relu'),\n",
    "    tf.keras.layers.Dense(16, activation='relu'),\n",
    "    tf.keras.layers.Dense(poss_actions, activation='linear')\n",
    "])\n",
    "\n",
    "# Optimiser\n",
    "optimiser = tf.keras.optimizers.Adam(learning_rate=ALPHA)"
   ]
  },
  {
   "cell_type": "markdown",
   "id": "Wrl1lfWpx07g",
   "metadata": {
    "id": "Wrl1lfWpx07g"
   },
   "source": [
    "## 5.4 Experience Relay\n",
    "**Experience Relay** is used to prevent consecutive time steps being used due to their higher correlation. This process consists of storing all our experiences, which are in the form $(s, a, R, s')$ in a **memory buffer**, which will be randomly sampled form in **mini-batches** that reduce runtime. We store each individual experienced as a `namedtuple`.\n",
    "\n",
    "Experience relay will be applied later on while training the agent."
   ]
  },
  {
   "cell_type": "code",
   "execution_count": 11,
   "id": "nsJ81AQx3_6A",
   "metadata": {
    "id": "nsJ81AQx3_6A"
   },
   "outputs": [],
   "source": [
    "experience = namedtuple(\"Experience\", field_names=[\"state\", \"action\", \"reward\", \"next_state\", \"done\"])"
   ]
  },
  {
   "cell_type": "markdown",
   "id": "e8IEaCcW4Ite",
   "metadata": {
    "id": "e8IEaCcW4Ite"
   },
   "source": [
    "## 5.5 Loss Function\n",
    "We compute the loss using Mean Squared Error, and the error term will follow section 5.1 whereby $y$-target is obtained from the Target Network. One thing to note is that $y$ no longer follows the Bellman equation if the next step is at a **terminal state**.\n",
    "\n",
    "$$\n",
    "\\begin{equation}\n",
    "    y_j =\n",
    "    \\begin{cases}\n",
    "      R_j & \\text{if episode terminates at step  } j+1\\\\\n",
    "      R_j + \\gamma \\max_{a'}\\hat{Q}(s_{j+1},a') & \\text{otherwise}\\\\\n",
    "    \\end{cases}       \n",
    "\\end{equation}\n",
    "$$\n"
   ]
  },
  {
   "cell_type": "code",
   "execution_count": 12,
   "id": "qRo7vyj45Iao",
   "metadata": {
    "id": "qRo7vyj45Iao"
   },
   "outputs": [],
   "source": [
    "def compute_loss(experiences, gamma, q_network, target_q_network):\n",
    "    \"\"\" \n",
    "    Calculates the loss.\n",
    "    \n",
    "    Args:\n",
    "      experiences: (tuple) tuple of [\"state\", \"action\", \"reward\", \"next_state\", \"done\"] namedtuples\n",
    "      gamma: (float) The discount factor.\n",
    "      q_network: (tf.keras.Sequential) Keras model for predicting the q_values\n",
    "      target_q_network: (tf.keras.Sequential) Keras model for predicting the targets\n",
    "          \n",
    "    Returns:\n",
    "      loss: (TensorFlow Tensor(shape=(0,), dtype=int32)) the Mean-Squared Error between\n",
    "            the y targets and the Q(s,a) values.\n",
    "    \"\"\"\n",
    "    # Unpack mini-batch\n",
    "    states, actions, rewards, next_states, done_vals = experiences\n",
    "\n",
    "    # Find Max Q^(s, a) using the Target Network's Q^ function\n",
    "    max_qsa = tf.reduce_max(target_network(next_states), axis=-1)\n",
    "\n",
    "    # Compute y-target\n",
    "    y_targets = rewards + (1 - done_vals) * gamma * max_qsa\n",
    "\n",
    "    # Get Q(s,a) values from the Q-network\n",
    "    q_values = q_network(states)\n",
    "    q_values = tf.gather_nd(q_values, tf.stack([tf.range(q_values.shape[0]),\n",
    "                                               tf.cast(actions, tf.int32)], axis=1))\n",
    "    \n",
    "    # Compute loss\n",
    "    loss = tf.keras.losses.MSE(y_targets, q_values)\n",
    "\n",
    "    return loss\n",
    "\n",
    "\n"
   ]
  },
  {
   "cell_type": "markdown",
   "id": "Z6UITp4v6E1H",
   "metadata": {
    "id": "Z6UITp4v6E1H"
   },
   "source": [
    "## 5.6 Function to Update Network Weights\n",
    "A custom training loop is employed in order to update both the weights of the $Q$ and $\\hat{Q}$. A soft-update as mentioned in 5.2 is used for $\\hat{Q}$"
   ]
  },
  {
   "cell_type": "code",
   "execution_count": 13,
   "id": "4bahrEU-6_Ci",
   "metadata": {
    "id": "4bahrEU-6_Ci"
   },
   "outputs": [],
   "source": [
    "@tf.function\n",
    "def agent_learn(experiences, gamma):\n",
    "    \"\"\"\n",
    "    Updates the weights of the Q networks.\n",
    "    \n",
    "    Args:\n",
    "      experiences: (tuple) tuple of [\"state\", \"action\", \"reward\", \"next_state\"] namedtuples\n",
    "      gamma: (float) The discount factor.\n",
    "    \n",
    "    \"\"\"\n",
    "    \n",
    "    # Calculate the loss.\n",
    "    with tf.GradientTape() as tape:\n",
    "        loss = compute_loss(experiences, gamma, q_network, target_network)\n",
    "\n",
    "    # Get the gradients of the loss with respect to the weights.\n",
    "    gradients = tape.gradient(loss, q_network.trainable_variables)\n",
    "    \n",
    "    # Update the weights of the q_network.\n",
    "    optimiser.apply_gradients(zip(gradients, q_network.trainable_variables))\n",
    "\n",
    "    # update the weights of target network via (soft update.\n",
    "    # Function from utils\n",
    "\n",
    "    TAU = 1e-3\n",
    "    update_target_network(q_network, target_network, TAU)"
   ]
  },
  {
   "cell_type": "markdown",
   "id": "oZzBFTcn7D9n",
   "metadata": {
    "id": "oZzBFTcn7D9n"
   },
   "source": [
    "# 6. Agent Training\n",
    "With the wide application of reinforcement learning in Blackjack with poor results, we try to beat the benchmark of a 40% win rate."
   ]
  },
  {
   "cell_type": "code",
   "execution_count": 14,
   "id": "aHCMdveZi3qv",
   "metadata": {
    "id": "aHCMdveZi3qv"
   },
   "outputs": [],
   "source": [
    "# Keep track of learning time\n",
    "start = time.time()\n",
    "\n",
    "# Time requirement for the env\n",
    "max_num_timesteps = 3\n",
    "NUM_EPISODES = 30000 # Our rough estimate of the number of episodes we need\n",
    "\n",
    "# Requirement for how many trials to average\n",
    "num_p_av = 5000\n",
    "\n",
    "# Initial Epsilon for epsilon greedy policy\n",
    "epsilon = 1.0\n",
    "\n",
    "# Keeping track of point history\n",
    "total_point_history = []\n",
    "\n",
    "# Memory buffer, containing experience namedtuples\n",
    "memory_buffer = deque(maxlen=MEM_SIZE)\n",
    "\n",
    "# Wins/losses/draws\n",
    "stats = {'wins': 0, 'losses': 0, 'draws': 0}"
   ]
  },
  {
   "cell_type": "code",
   "execution_count": 15,
   "id": "9zM3z_lzj8xk",
   "metadata": {
    "id": "9zM3z_lzj8xk"
   },
   "outputs": [
    {
     "name": "stdout",
     "output_type": "stream",
     "text": [
      "Episode 66 | Total point average of the last 5000 episodes: -0.39"
     ]
    },
    {
     "name": "stderr",
     "output_type": "stream",
     "text": [
      "2023-01-20 18:12:38.425112: W tensorflow/core/platform/profile_utils/cpu_utils.cc:128] Failed to get CPU frequency: 0 Hz\n",
      "2023-01-20 18:12:38.425292: I tensorflow/core/grappler/optimizers/custom_graph_optimizer_registry.cc:113] Plugin optimizer for device_type GPU is enabled.\n"
     ]
    },
    {
     "name": "stdout",
     "output_type": "stream",
     "text": [
      "Episode 5000 | Total point average of the last 5000 episodes: -0.59\n",
      "Episode 10000 | Total point average of the last 5000 episodes: -0.54\n",
      "Episode 15000 | Total point average of the last 5000 episodes: -0.52\n",
      "Episode 20000 | Total point average of the last 5000 episodes: -0.47\n",
      "Episode 25000 | Total point average of the last 5000 episodes: -0.51\n",
      "Episode 30000 | Total point average of the last 5000 episodes: -0.47\n",
      "\n",
      "Total Runtime: 654.37 s (10.91 min)\n",
      "Win rate: 0.3775\n"
     ]
    }
   ],
   "source": [
    "# Set initial target weights using q_network's weights\n",
    "target_network.set_weights(q_network.get_weights())\n",
    "\n",
    "# Iterate NUM_EPISODES times\n",
    "for i in range(NUM_EPISODES):\n",
    "  # Rest env and start from the initial state\n",
    "    state = env.reset()[0]\n",
    "    total_points = 0\n",
    "\n",
    "  # Iterate max number of time steps\n",
    "    for t in range(max_num_timesteps):\n",
    "\n",
    "        # Choose action a from curr state using Epsilon Greedy Policy\n",
    "        state = convert_bool(list(state))\n",
    "        state_qn = np.expand_dims(state, axis=0) # Reshape to fit the q network\n",
    "        q_values = q_network(state_qn) # Get Q(s, a) values given current state\n",
    "        action = get_action(q_values, epsilon) # In Utils, use epsilon greedy policy\n",
    "        \n",
    "        # Take action a from current state\n",
    "        next_state, reward, _, done, _ = env.step(action)\n",
    "        \n",
    "        # Store experience tupple (s, a, R, s') in memoru buffer\n",
    "        memory_buffer.append(experience(state, action, reward, next_state, done))\n",
    "        \n",
    "        # Check if we've hit the appropriate t time steps\n",
    "        # And if memory buffer has sufficient data points for minibatch\n",
    "        update = check_update_conditions(t, NUM_STEPS_FOR_UPDATE, memory_buffer)\n",
    "        \n",
    "        if reward == 1.0 or reward == 1.5:\n",
    "            stats['wins'] += 1\n",
    "        \n",
    "        elif reward == 0:\n",
    "            stats['draws'] += 1\n",
    "            \n",
    "        else:\n",
    "            stats['losses'] += 1\n",
    "        \n",
    "        if update:\n",
    "            # MINIBATCH Sampling of memory buffer.\n",
    "            # MINIBATCH_SIZE denoted in utils\n",
    "            experiences = get_experiences(memory_buffer)\n",
    "            \n",
    "            # Perform gradient descent step, and update target Network using soft-update\n",
    "            agent_learn(experiences, GAMMA)\n",
    "            \n",
    "        state = deepcopy(next_state)\n",
    "        total_points += reward\n",
    "        \n",
    "        if done:\n",
    "            break\n",
    "            \n",
    "    total_point_history.append(total_points)\n",
    "    mean_latest_points = np.mean(total_point_history[-num_p_av:])\n",
    "            \n",
    "    # Update episilon value for e-greedy policy (utils)\n",
    "    episilon = get_new_eps(epsilon)\n",
    "            \n",
    "    print(f\"\\rEpisode {i+1} | Total point average of the last {num_p_av} episodes: {mean_latest_points:.2f}\", end=\"\")\n",
    "\n",
    "    if (i+1) % num_p_av == 0:\n",
    "        print(f\"\\rEpisode {i+1} | Total point average of the last {num_p_av} episodes: {mean_latest_points:.2f}\")\n",
    "\n",
    "    # We will consider that the environment is solved if we get an\n",
    "    # average of 0.5 points in the last 100 episodes.\n",
    "    if mean_latest_points >= 0.4:\n",
    "        print(f\"\\n\\nEnvironment solved in {i+1} episodes!\")\n",
    "        q_network.save('blackjack_agent_model.h5')\n",
    "        break\n",
    "        \n",
    "tot_time = time.time() - start\n",
    "\n",
    "print(f\"\\nTotal Runtime: {tot_time:.2f} s ({(tot_time/60):.2f} min)\")\n",
    "print(f\"Win rate: {stats['wins'] / (sum(stats.values()))}\")"
   ]
  },
  {
   "cell_type": "markdown",
   "id": "f3f72d39-9b44-4a6e-ad4d-e1261641351e",
   "metadata": {},
   "source": [
    "# 7. Conclusion\n",
    "For a simple probablistic game such as Blackjack, it might be more relevant to use a traditional policy or a statistical model rather than applying Deep $Q$-learning. As seen from our results of a constant negative average reward and ultimately negative win-rate, applying neural networks to infer estimate the $Q*$ function doesn't work too well, and our results oscilates."
   ]
  }
 ],
 "metadata": {
  "colab": {
   "include_colab_link": true,
   "provenance": []
  },
  "kernelspec": {
   "display_name": "Python 3 (ipykernel)",
   "language": "python",
   "name": "python3"
  },
  "language_info": {
   "codemirror_mode": {
    "name": "ipython",
    "version": 3
   },
   "file_extension": ".py",
   "mimetype": "text/x-python",
   "name": "python",
   "nbconvert_exporter": "python",
   "pygments_lexer": "ipython3",
   "version": "3.10.0"
  }
 },
 "nbformat": 4,
 "nbformat_minor": 5
}
