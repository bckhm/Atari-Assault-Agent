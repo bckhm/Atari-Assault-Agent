{
  "cells": [
    {
      "cell_type": "markdown",
      "metadata": {
        "id": "view-in-github",
        "colab_type": "text"
      },
      "source": [
        "<a href=\"https://colab.research.google.com/github/bckhm/Blackjack-Agent/blob/main/Blackjack_agent.ipynb\" target=\"_parent\"><img src=\"https://colab.research.google.com/assets/colab-badge.svg\" alt=\"Open In Colab\"/></a>"
      ]
    },
    {
      "cell_type": "markdown",
      "id": "00659373-14c2-4d6a-b4d3-c0e6b4e6ced5",
      "metadata": {
        "id": "00659373-14c2-4d6a-b4d3-c0e6b4e6ced5"
      },
      "source": [
        "# Blackjack Agent using Deep-Q Learning\n",
        "In this notebook, we aim to train an agent to play the Blackjack via the use of reinforcement learning (Deep-Q Learning). We will treat the process of walking as a Markov Decision Process (MDP) in our learning efforts."
      ]
    },
    {
      "cell_type": "code",
      "source": [
        "from google.colab import drive\n",
        "drive.mount('/content/drive')\n",
        "%cd /content/drive/MyDrive/Github/Blackjack-Agent"
      ],
      "metadata": {
        "colab": {
          "base_uri": "https://localhost:8080/"
        },
        "id": "GC84zDpqZ_CO",
        "outputId": "890128d1-8a2d-464f-e99b-e099ad4844dc"
      },
      "id": "GC84zDpqZ_CO",
      "execution_count": 54,
      "outputs": [
        {
          "output_type": "stream",
          "name": "stdout",
          "text": [
            "Drive already mounted at /content/drive; to attempt to forcibly remount, call drive.mount(\"/content/drive\", force_remount=True).\n",
            "/content/drive/MyDrive/Github/Blackjack-Agent\n"
          ]
        }
      ]
    },
    {
      "cell_type": "markdown",
      "id": "401d8655-4b98-41b6-8043-239cf300d997",
      "metadata": {
        "id": "401d8655-4b98-41b6-8043-239cf300d997"
      },
      "source": [
        "# 1. Packages\n",
        "`Xvfb` and `gym[Box2D]` are also required in order to run our display and the environment respectively."
      ]
    },
    {
      "cell_type": "code",
      "source": [
        "!pip install pyvirtualdisplay\n",
        "\n",
        "!apt-get install x11-utils > /dev/null 2>&1 \n",
        "!pip install pyglet > /dev/null 2>&1 \n",
        "!apt-get install -y xvfb python-opengl > /dev/null 2>&1"
      ],
      "metadata": {
        "colab": {
          "base_uri": "https://localhost:8080/"
        },
        "id": "BxfoOJl-adp8",
        "outputId": "1e7af7ce-ee81-4b7f-e182-b4fb8b85b1c7"
      },
      "id": "BxfoOJl-adp8",
      "execution_count": 55,
      "outputs": [
        {
          "output_type": "stream",
          "name": "stdout",
          "text": [
            "Looking in indexes: https://pypi.org/simple, https://us-python.pkg.dev/colab-wheels/public/simple/\n",
            "Requirement already satisfied: pyvirtualdisplay in /usr/local/lib/python3.8/dist-packages (3.0)\n"
          ]
        }
      ]
    },
    {
      "cell_type": "code",
      "source": [
        "\n",
        "!pip install gym[box2d]"
      ],
      "metadata": {
        "colab": {
          "base_uri": "https://localhost:8080/"
        },
        "id": "pHZN9WWMazj_",
        "outputId": "9401c5fe-4b72-4ced-bfd5-f91c90bbc0ac"
      },
      "id": "pHZN9WWMazj_",
      "execution_count": 56,
      "outputs": [
        {
          "output_type": "stream",
          "name": "stdout",
          "text": [
            "Looking in indexes: https://pypi.org/simple, https://us-python.pkg.dev/colab-wheels/public/simple/\n",
            "Requirement already satisfied: gym[box2d] in /usr/local/lib/python3.8/dist-packages (0.25.2)\n",
            "Requirement already satisfied: numpy>=1.18.0 in /usr/local/lib/python3.8/dist-packages (from gym[box2d]) (1.21.6)\n",
            "Requirement already satisfied: cloudpickle>=1.2.0 in /usr/local/lib/python3.8/dist-packages (from gym[box2d]) (2.2.0)\n",
            "Requirement already satisfied: importlib-metadata>=4.8.0 in /usr/local/lib/python3.8/dist-packages (from gym[box2d]) (6.0.0)\n",
            "Requirement already satisfied: gym-notices>=0.0.4 in /usr/local/lib/python3.8/dist-packages (from gym[box2d]) (0.0.8)\n",
            "Requirement already satisfied: pygame==2.1.0 in /usr/local/lib/python3.8/dist-packages (from gym[box2d]) (2.1.0)\n",
            "Requirement already satisfied: box2d-py==2.3.5 in /usr/local/lib/python3.8/dist-packages (from gym[box2d]) (2.3.5)\n",
            "Requirement already satisfied: swig==4.* in /usr/local/lib/python3.8/dist-packages (from gym[box2d]) (4.1.1)\n",
            "Requirement already satisfied: zipp>=0.5 in /usr/local/lib/python3.8/dist-packages (from importlib-metadata>=4.8.0->gym[box2d]) (3.11.0)\n"
          ]
        }
      ]
    },
    {
      "cell_type": "code",
      "execution_count": 65,
      "id": "1e7dd31d-5524-44f9-8a1c-3279e1af3e65",
      "metadata": {
        "id": "1e7dd31d-5524-44f9-8a1c-3279e1af3e65"
      },
      "outputs": [],
      "source": [
        "import time\n",
        "from collections import deque, namedtuple\n",
        "\n",
        "import gym\n",
        "import numpy as np\n",
        "import PIL.Image\n",
        "import tensorflow as tf\n",
        "\n",
        "from pyvirtualdisplay import Display\n",
        "from utils import *"
      ]
    },
    {
      "cell_type": "code",
      "execution_count": 59,
      "id": "3d331466-0731-4931-9334-138a2110c485",
      "metadata": {
        "id": "3d331466-0731-4931-9334-138a2110c485"
      },
      "outputs": [],
      "source": [
        "# Virtual Display for rendering of the Bipedal Walker environment\n",
        "Display(visible=0, size=(840, 480)).start();\n",
        "\n",
        "# Random seed for tensorflow\n",
        "tf.random.set_seed(0)"
      ]
    },
    {
      "cell_type": "markdown",
      "source": [
        "# 2. Blackjack Environment\n",
        "We will [OpenAI's Gym library](https://www.gymlibrary.dev/) to load and attempt to solve the Blackjack environment. \n",
        "\n",
        "The goal of the Blakcjack environment is to train an agent to beat the dealer in Blackjack by obtaining cards that sum close to 21, without going over 21, and yet still have a higher value thant the dealer's card.\n",
        "\n",
        "<br>\n",
        "<br>\n",
        "<figure>\n",
        "  <img src =\"https://www.gymlibrary.dev/_images/blackjack.gif\" width = 40%>\n",
        "      <figcaption style = \"text-align: center; font-style: italic\">Atari Environment</figcaption>\n",
        "</figure>"
      ],
      "metadata": {
        "id": "KQQxtBtSFAl1"
      },
      "id": "KQQxtBtSFAl1"
    },
    {
      "cell_type": "markdown",
      "source": [
        "## 2.1 Action Space\n",
        "The action space consists of two actions represented by discrete values.\n",
        "- `0`: Stick\n",
        "- `1`: Hit"
      ],
      "metadata": {
        "id": "dKGIwjAcHBmh"
      },
      "id": "dKGIwjAcHBmh"
    },
    {
      "cell_type": "markdown",
      "source": [
        "## 2.2 Observation Space\n",
        "The agent's observation space is a state vector containing 3 variables:\n",
        "1. Player's current sum\n",
        "2. Dealer's one showing card (1- 10)\n",
        "3. Whether a player holds a usable ace\n"
      ],
      "metadata": {
        "id": "VGjFG3boHb4K"
      },
      "id": "VGjFG3boHb4K"
    },
    {
      "cell_type": "markdown",
      "source": [
        "## 2.3 Rewards\n",
        "- Win game: +1\n",
        "- Lose game: -1\n",
        "- Draw: 0\n",
        "- Win game with natural Blackjack: +1.5 if `natural=True`, else +1"
      ],
      "metadata": {
        "id": "Qg34xGn_IwBu"
      },
      "id": "Qg34xGn_IwBu"
    },
    {
      "cell_type": "markdown",
      "source": [
        "# 3. Loading the Environement\n",
        "We use the `gym` library to open the `BipedalWalker-v3` environment. `.reset()` resets the environment and `.render()` renders the first frame of the environment."
      ],
      "metadata": {
        "id": "sejlakzRMp-K"
      },
      "id": "sejlakzRMp-K"
    },
    {
      "cell_type": "code",
      "source": [
        "env = gym.make('Blackjack-v1', natural=True, sab=False)\n",
        "env.reset()\n",
        "\n",
        "PIL.Image.fromarray(env.render(mode='rgb_array'))"
      ],
      "metadata": {
        "id": "bH3Bw4upNOn5",
        "outputId": "b30fbbfd-f6e5-4c82-8848-98882a4a1991",
        "colab": {
          "base_uri": "https://localhost:8080/",
          "height": 656
        }
      },
      "id": "bH3Bw4upNOn5",
      "execution_count": 60,
      "outputs": [
        {
          "output_type": "stream",
          "name": "stderr",
          "text": [
            "/usr/local/lib/python3.8/dist-packages/gym/core.py:317: DeprecationWarning: \u001b[33mWARN: Initializing wrapper in old step API which returns one bool instead of two. It is recommended to set `new_step_api=True` to use new step API. This will be the default behaviour in future.\u001b[0m\n",
            "  deprecation(\n",
            "/usr/local/lib/python3.8/dist-packages/gym/wrappers/step_api_compatibility.py:39: DeprecationWarning: \u001b[33mWARN: Initializing environment in old step API which returns one bool instead of two. It is recommended to set `new_step_api=True` to use new step API. This will be the default behaviour in future.\u001b[0m\n",
            "  deprecation(\n",
            "/usr/local/lib/python3.8/dist-packages/gym/core.py:43: DeprecationWarning: \u001b[33mWARN: The argument mode in render method is deprecated; use render_mode during environment initialization instead.\n",
            "See here for more information: https://www.gymlibrary.ml/content/api/\u001b[0m\n",
            "  deprecation(\n"
          ]
        },
        {
          "output_type": "execute_result",
          "data": {
            "text/plain": [
              "<PIL.Image.Image image mode=RGB size=600x500 at 0x7F74AAA103D0>"
            ],
            "image/png": "[encoded data removed]"
          },
          "metadata": {},
          "execution_count": 60
        }
      ]
    },
    {
      "cell_type": "markdown",
      "source": [
        "Thereafter, we check the size of the state vector as well as the number of possible actions "
      ],
      "metadata": {
        "id": "UjSfxNuPNfvn"
      },
      "id": "UjSfxNuPNfvn"
    },
    {
      "cell_type": "code",
      "source": [
        "state_shape = len(env.observation_space)\n",
        "poss_actions_space = env.action_space\n",
        "\n",
        "print(f\"State Vector: {state_shape}\")\n",
        "print(f\"Poss Actions: {poss_actions}\")"
      ],
      "metadata": {
        "id": "eSPw4v_EO2jK",
        "outputId": "e997d7b2-6afc-44e4-c221-82b05d121216",
        "colab": {
          "base_uri": "https://localhost:8080/"
        }
      },
      "id": "eSPw4v_EO2jK",
      "execution_count": 61,
      "outputs": [
        {
          "output_type": "stream",
          "name": "stdout",
          "text": [
            "State Vector: 3\n",
            "Poss Actions: 2\n"
          ]
        }
      ]
    },
    {
      "cell_type": "code",
      "source": [
        "poss_actions = 2"
      ],
      "metadata": {
        "id": "Z5yuwRfNdf7W"
      },
      "id": "Z5yuwRfNdf7W",
      "execution_count": 62,
      "outputs": []
    },
    {
      "cell_type": "markdown",
      "source": [
        "# 4. Dynamics of the Environment\n",
        "Running `.step(action)` on the environment runs a single time step from the current state, $s$, taking action $a$ and returning 4 different values:\n",
        "\n",
        "1. `next_state` $(object)$: Observation of the environment after an action. This is a vector contain our Observation Space variables. We may sometimes denote this as $s'$\n",
        "\n",
        "2. `rewards` $(float)$: Reward received as a result of our action. We may sometimes denote this as $R$\n",
        "\n",
        "3. `done` $(bool)$: Indiciating whether an episode has terminated\n",
        "\n",
        "4. `info` $(dictionary)$: Diagnostics used for debugging."
      ],
      "metadata": {
        "id": "E3gkbnmnQasz"
      },
      "id": "E3gkbnmnQasz"
    },
    {
      "cell_type": "code",
      "source": [
        "# Initial state of environment\n",
        "init_state = env.reset()\n",
        "\n",
        "# Sample action\n",
        "action = 0\n",
        "\n",
        "# Run a single time step given the action\n",
        "next_state, reward, done, _ = env.step(action) "
      ],
      "metadata": {
        "id": "9fcdAgTcRpvv"
      },
      "id": "9fcdAgTcRpvv",
      "execution_count": 63,
      "outputs": []
    },
    {
      "cell_type": "code",
      "source": [
        "display_table(init_state, action, next_state, reward, done)"
      ],
      "metadata": {
        "id": "Wzf8UwFSUXAu",
        "outputId": "15d08130-0b00-4b1b-d2b5-fc6e6de5ca49",
        "colab": {
          "base_uri": "https://localhost:8080/",
          "height": 198
        }
      },
      "id": "Wzf8UwFSUXAu",
      "execution_count": 66,
      "outputs": [
        {
          "output_type": "error",
          "ename": "TypeError",
          "evalue": "ignored",
          "traceback": [
            "\u001b[0;31m---------------------------------------------------------------------------\u001b[0m",
            "\u001b[0;31mTypeError\u001b[0m                                 Traceback (most recent call last)",
            "\u001b[0;32m<ipython-input-66-37b97c1e400e>\u001b[0m in \u001b[0;36m<module>\u001b[0;34m\u001b[0m\n\u001b[0;32m----> 1\u001b[0;31m \u001b[0mdisplay_table\u001b[0m\u001b[0;34m(\u001b[0m\u001b[0minit_state\u001b[0m\u001b[0;34m,\u001b[0m \u001b[0maction\u001b[0m\u001b[0;34m,\u001b[0m \u001b[0mnext_state\u001b[0m\u001b[0;34m,\u001b[0m \u001b[0mreward\u001b[0m\u001b[0;34m,\u001b[0m \u001b[0mdone\u001b[0m\u001b[0;34m)\u001b[0m\u001b[0;34m\u001b[0m\u001b[0;34m\u001b[0m\u001b[0m\n\u001b[0m",
            "\u001b[0;32m/content/drive/MyDrive/Github/Atari-Assault-Agent/utils.py\u001b[0m in \u001b[0;36mdisplay_table\u001b[0;34m(initial_state, action, next_state, reward, done)\u001b[0m\n",
            "\u001b[0;31mTypeError\u001b[0m: 'int' object is not subscriptable"
          ]
        }
      ]
    },
    {
      "cell_type": "markdown",
      "source": [
        "# 5. Deep $Q$-Learning\n",
        "## 5.1 $Q$ Function\n",
        "Our $Q$ function takes in 2 inputs -- $s$ and $a$, the current state and the action taken from this state. $Q(s, a)$ in this case is the total return for taking action $a$, arriving at state $s'$, and performing optimal actions from then on. We formulate $Q(s, a)$ using the Bellman Equation as shown:\n",
        "\n",
        "$$Q_{i+1}(s, a) = R + \\gamma\\ max_{a'}\\ Q_{i}(s', a')$$\n",
        "\n",
        "Whereby $\\gamma$ is the discount factor. As $i \\to \\infty$, our $Q$ function converges to the optimal $Q^{*}$. Due to the continuous problem that we are facing, we are unable to explore the entire state-action space and instead make use of a neural network, denoted as the $Q$-network, to estimate $Q(s, a) \\approx Q^{*}(s, a)$ via iteratively adjusting its weights using gradient descent.\n",
        "\n",
        "The $Q^{*}$ function is then used to choose the action that maximises $Q^{*}(s, a)$ to gain the greatest reward\n",
        "\n",
        "## 5.2 Target Network\n",
        "Our error term is currently calculated as shown\n",
        "$$\n",
        "\\overbrace{\\underbrace{R + \\gamma \\max_{a'}Q(s',a'; w)}_{\\rm {y~target}} - Q(s,a;w)}^{\\rm {Error}}\n",
        "$$\n",
        "\n",
        "However, the constantly changing $y$ targets may lead to instabilities in this application of reinforcement learning. Therefore, we need a seperate NN to be calculating the $y$ targets, whose weights are updated at a significantly slower pace. We denote the target network's state-action function as $\\hat{Q}$ and its weights as $w^{-}$. We update $w^{-}$  using a **soft update** as follows:\n",
        "\n",
        "$$w^-\\leftarrow \\tau w + (1 - \\tau) w^-$$\n",
        "\n",
        "whereby $\\tau < 1$. And our error is calculated as shown:\n",
        "\n",
        "$$ \\overbrace{\\underbrace{R + \\gamma \\max_{a'}\\hat{Q}(s',a'; w^-)}_{\\rm {y~target}} - Q(s,a;w)}^{\\rm {Error}} $$\n",
        "\n",
        "## 5.3 Networks\n",
        "Here, the networks for both the target network as well as the $Q$-network are built using `keras`. Our initial architecture is as follows:\n",
        "1. `Input` layer: takes in `state_shape` as inpit\n",
        "2. `Dense` layer: `64` units, `relu` activation\n",
        "3. `Dense` layer: `64` units, `relu` activation\n",
        "4. `Dense` layer: `poss_actions` units, `linear` activation\n",
        "\n",
        "We use the `Adam` optimizer here, and also initate our intiial parameters."
      ],
      "metadata": {
        "id": "XwEMud4LUdT_"
      },
      "id": "XwEMud4LUdT_"
    },
    {
      "cell_type": "code",
      "source": [
        "# HYPERPARAMETERS\n",
        "ALPHA = 1e-3 # Learning rate\n",
        "GAMMA = 0.8 # Discount factor\n",
        "MEM_SIZE = 100000 # Memory buffer size\n",
        "NUM_STEPS_FOR_UPDATE = 4 # Number of time steps before updating weights"
      ],
      "metadata": {
        "id": "1_6BHxFJsF0c"
      },
      "id": "1_6BHxFJsF0c",
      "execution_count": null,
      "outputs": []
    },
    {
      "cell_type": "code",
      "source": [
        "# Q-network\n",
        "q_network = tf.keras.models.Sequential([\n",
        "    tf.keras.layers.Input(shape=(state_shape)),\n",
        "    tf.keras.layers.Dense(64, activation='relu'),\n",
        "    tf.keras.layers.Dense(64, activation='relu'),\n",
        "    tf.keras.layers.Dense(poss_actions[0], activation='linear')\n",
        "])\n",
        "\n",
        "# Target Network\n",
        "target_network = tf.keras.models.Sequential([\n",
        "    tf.keras.layers.Input(shape=(state_shape)),\n",
        "    tf.keras.layers.Dense(64, activation='relu'),\n",
        "    tf.keras.layers.Dense(64, activation='relu'),\n",
        "    tf.keras.layers.Dense(poss_actions[0], activation='linear')\n",
        "])\n",
        "\n",
        "# Optimiser\n",
        "optimiser = tf.keras.optimizers.Adam(learning_rate=ALPHA)"
      ],
      "metadata": {
        "id": "0kuCCJ5xtsb2"
      },
      "id": "0kuCCJ5xtsb2",
      "execution_count": null,
      "outputs": []
    },
    {
      "cell_type": "markdown",
      "source": [
        "## 5.4 Experience Relay\n",
        "**Experience Relay** is used to prevent consecutive time steps being used due to their higher correlation. This process consists of storing all our experiences, which are in the form $(s, a, R, s')$ in a **memory buffer**, which will be randomly sampled form in **mini-batches** that reduce runtime. We store each individual experienced as a `namedtuple`.\n",
        "\n",
        "Experience relay will be applied later on while training the agent."
      ],
      "metadata": {
        "id": "Wrl1lfWpx07g"
      },
      "id": "Wrl1lfWpx07g"
    },
    {
      "cell_type": "code",
      "source": [
        "experience = namedtuple(\"Experience\", field_names=[\"state\", \"action\", \"reward\", \"next_state\", \"done\" ])"
      ],
      "metadata": {
        "id": "nsJ81AQx3_6A"
      },
      "id": "nsJ81AQx3_6A",
      "execution_count": null,
      "outputs": []
    },
    {
      "cell_type": "markdown",
      "source": [
        "## 5.5 Loss Function\n",
        "We compute the loss using Mean Squared Error, and the error term will follow section 5.1 whereby $y$-target is obtained from the Target Network. One thing to note is that $y$ no longer follows the Bellman equation if the next step is at a **terminal state**.\n",
        "\n",
        "$$\n",
        "\\begin{equation}\n",
        "    y_j =\n",
        "    \\begin{cases}\n",
        "      R_j & \\text{if episode terminates at step  } j+1\\\\\n",
        "      R_j + \\gamma \\max_{a'}\\hat{Q}(s_{j+1},a') & \\text{otherwise}\\\\\n",
        "    \\end{cases}       \n",
        "\\end{equation}\n",
        "$$\n"
      ],
      "metadata": {
        "id": "e8IEaCcW4Ite"
      },
      "id": "e8IEaCcW4Ite"
    },
    {
      "cell_type": "code",
      "source": [
        "def compute_loss(experiences, gamma, q_network, target_q_network):\n",
        "    \"\"\" \n",
        "    Calculates the loss.\n",
        "    \n",
        "    Args:\n",
        "      experiences: (tuple) tuple of [\"state\", \"action\", \"reward\", \"next_state\", \"done\"] namedtuples\n",
        "      gamma: (float) The discount factor.\n",
        "      q_network: (tf.keras.Sequential) Keras model for predicting the q_values\n",
        "      target_q_network: (tf.keras.Sequential) Keras model for predicting the targets\n",
        "          \n",
        "    Returns:\n",
        "      loss: (TensorFlow Tensor(shape=(0,), dtype=int32)) the Mean-Squared Error between\n",
        "            the y targets and the Q(s,a) values.\n",
        "    \"\"\"\n",
        "    # Unpack mini-batch\n",
        "    states, actions, rewards, next_states, done_vals = experiences\n",
        "\n",
        "    # Find Max Q^(s, a) using the Target Network's Q^ function\n",
        "    max_qsa = tf.reduce_max(target_network(next_states), axis=-1)\n",
        "\n",
        "    # Compute y-target\n",
        "    y_targets = rewards + (1 - done_vals) * gamma * max_qsa\n",
        "\n",
        "    # Get Q(s,a) values from the Q-network\n",
        "    q_values = q_network(states)\n",
        "    q_values = tf.gather_nd(q_values, tf.stack([tf.range(q_values.shape[0]),\n",
        "                                               tf.cast(actions, tf.int32)], axis=1))\n",
        "    \n",
        "    # Compute loss\n",
        "    loss = tf.keras.losses.MSE(y_targets, q_values)\n",
        "\n",
        "    return loss\n",
        "\n",
        "\n"
      ],
      "metadata": {
        "id": "qRo7vyj45Iao"
      },
      "id": "qRo7vyj45Iao",
      "execution_count": null,
      "outputs": []
    },
    {
      "cell_type": "markdown",
      "source": [
        "## 5.6 Function to Update Network Weights\n",
        "A custom training loop is employed in order to update both the weights of the $Q$ and $\\hat{Q}$. A soft-update as mentioned in 5.2 is used for $\\hat{Q}$"
      ],
      "metadata": {
        "id": "Z6UITp4v6E1H"
      },
      "id": "Z6UITp4v6E1H"
    },
    {
      "cell_type": "code",
      "source": [
        "@tf.function\n",
        "def agent_learn(experiences, gamma):\n",
        "    \"\"\"\n",
        "    Updates the weights of the Q networks.\n",
        "    \n",
        "    Args:\n",
        "      experiences: (tuple) tuple of [\"state\", \"action\", \"reward\", \"next_state\", \"done\"] namedtuples\n",
        "      gamma: (float) The discount factor.\n",
        "    \n",
        "    \"\"\"\n",
        "    \n",
        "    # Calculate the loss.\n",
        "    with tf.GradientTape() as tape:\n",
        "        loss = compute_loss(experiences, gamma, q_network, target_network)\n",
        "\n",
        "    # Get the gradients of the loss with respect to the weights.\n",
        "    gradients = tape.gradient(loss, q_network.trainable_variables)\n",
        "    \n",
        "    # Update the weights of the q_network.\n",
        "    optimiser.apply_gradients(zip(gradients, q_network.trainable_variables))\n",
        "\n",
        "    # update the weights of target network via (soft update.\n",
        "    # Function from utils\n",
        "\n",
        "    TAU = 1e-3\n",
        "    update_target_network(q_network, target_network, TAU)"
      ],
      "metadata": {
        "id": "4bahrEU-6_Ci"
      },
      "id": "4bahrEU-6_Ci",
      "execution_count": null,
      "outputs": []
    },
    {
      "cell_type": "markdown",
      "source": [
        "# 6. Agent Training"
      ],
      "metadata": {
        "id": "oZzBFTcn7D9n"
      },
      "id": "oZzBFTcn7D9n"
    },
    {
      "cell_type": "code",
      "source": [
        "# Keep track of learning time\n",
        "start = time.time()\n",
        "\n",
        "# Time requirement for the env\n",
        "max_num_timesteps = 1600\n",
        "NUM_EPISODES = 2000 # Our rough estimate of the number of episodes we need\n",
        "\n",
        "# Requirement for how many trials to average\n",
        "num_p_av = 100 \n",
        "\n",
        "# Initial Epsilon for epsilon greedy policy\n",
        "epsilon = 1.0\n",
        "\n",
        "# Keeping track of point history\n",
        "total_point_history = []\n",
        "\n",
        "# Memory buffer, containing experience namedtuples\n",
        "memory_buffer = deque(maxlen=MEMORY_SIZE)"
      ],
      "metadata": {
        "id": "aHCMdveZi3qv"
      },
      "id": "aHCMdveZi3qv",
      "execution_count": null,
      "outputs": []
    },
    {
      "cell_type": "code",
      "source": [
        "# Set initial target weights using q_network's weights\n",
        "target_network.set_weights(q_network.get_weights())\n",
        "\n",
        "# Iterate NUM_EPISODES times\n",
        "for i in range(NUM_EPISODES):\n",
        "  # Rest env and start from the initial state\n",
        "  state = env.reset()\n",
        "  total_points = 0\n",
        "\n",
        "  # Iterate max number of time steps\n",
        "  for t in range(max_num_timesteps):\n",
        "\n",
        "    # Choose action a using current state\n",
        "    state_qn = np.expand_dims(state, axis=0) # Reshape to fit the q network\n",
        "    q_values = q_network(state_qn) # Get Q(s, a) values given current state\n",
        "    action = get_action(q_values, epsilon) # In Utils, use epsilon greedy policy \n"
      ],
      "metadata": {
        "id": "9zM3z_lzj8xk"
      },
      "id": "9zM3z_lzj8xk",
      "execution_count": null,
      "outputs": []
    },
    {
      "cell_type": "code",
      "source": [],
      "metadata": {
        "id": "OwNgRmstsyK7"
      },
      "id": "OwNgRmstsyK7",
      "execution_count": null,
      "outputs": []
    }
  ],
  "metadata": {
    "kernelspec": {
      "display_name": "Python 3 (ipykernel)",
      "language": "python",
      "name": "python3"
    },
    "language_info": {
      "codemirror_mode": {
        "name": "ipython",
        "version": 3
      },
      "file_extension": ".py",
      "mimetype": "text/x-python",
      "name": "python",
      "nbconvert_exporter": "python",
      "pygments_lexer": "ipython3",
      "version": "3.10.0"
    },
    "colab": {
      "provenance": [],
      "include_colab_link": true
    }
  },
  "nbformat": 4,
  "nbformat_minor": 5
}